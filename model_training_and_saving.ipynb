{
 "cells": [
  {
   "cell_type": "markdown",
   "metadata": {},
   "source": [
    "Importing the required libraries"
   ]
  },
  {
   "cell_type": "code",
   "execution_count": 1,
   "metadata": {},
   "outputs": [],
   "source": [
    "# Importing the required libraries\n",
    "import matplotlib.pyplot as plt\n",
    "import tensorflow as tf\n",
    "\n",
    "from tensorflow import keras\n",
    "from tensorflow.keras.models import Sequential\n",
    "from tensorflow.keras.preprocessing.image import ImageDataGenerator"
   ]
  },
  {
   "cell_type": "code",
   "execution_count": 2,
   "metadata": {},
   "outputs": [],
   "source": [
    "train = ImageDataGenerator(rescale = 1./255)\n",
    "validation = ImageDataGenerator(rescale = 1./255)\n",
    "\n",
    "# location of training directory and validation directory\n",
    "train_directory = 'dataset/training'\n",
    "validation_directory = 'dataset/validation'\n",
    "\n",
    "# Controlled Variables\n",
    "img_height = 200\n",
    "img_width = 200\n",
    "batch_size = 32"
   ]
  },
  {
   "cell_type": "code",
   "execution_count": 3,
   "metadata": {},
   "outputs": [
    {
     "name": "stdout",
     "output_type": "stream",
     "text": [
      "Found 1978 images belonging to 2 classes.\n",
      "Found 222 images belonging to 2 classes.\n"
     ]
    }
   ],
   "source": [
    "# Creating the training and validation dataset with labels\n",
    "\n",
    "training_ds = train.flow_from_directory(\n",
    "    train_directory,\n",
    "    target_size = (img_height,img_width),\n",
    "    batch_size = batch_size,\n",
    "    class_mode = 'binary')\n",
    "\n",
    "validation_ds = validation.flow_from_directory(\n",
    "    validation_directory,\n",
    "    target_size = (img_height,img_width),\n",
    "    batch_size = batch_size,\n",
    "    class_mode = 'binary')"
   ]
  },
  {
   "cell_type": "code",
   "execution_count": 4,
   "metadata": {},
   "outputs": [
    {
     "name": "stdout",
     "output_type": "stream",
     "text": [
      "Training Indices: {'fire': 0, 'no_fire': 1}\n",
      "Validation Indices: {'fire': 0, 'no_fire': 1}\n"
     ]
    }
   ],
   "source": [
    "print('Training Indices:',training_ds.class_indices)\n",
    "print('Validation Indices:',validation_ds.class_indices)"
   ]
  },
  {
   "cell_type": "code",
   "execution_count": 6,
   "metadata": {},
   "outputs": [],
   "source": [
    "model = Sequential([\n",
    "    # Three convolution layers because the image is a bit large\n",
    "    # First Convolution\n",
    "    keras.layers.Conv2D(16, (3,3), activation = 'relu', input_shape =(img_height,img_width,3)),\n",
    "    keras.layers.MaxPool2D(2,2),\n",
    "    # Second Covolution\n",
    "    keras.layers.Conv2D(32, (3,3), activation = 'relu'),\n",
    "    keras.layers.MaxPool2D(2,2),\n",
    "    # Third Convolution\n",
    "    keras.layers.Conv2D(64, (3,3), activation = 'relu'),\n",
    "    keras.layers.MaxPool2D(2,2),\n",
    "    \n",
    "    # Flattening the results\n",
    "    keras.layers.Flatten(),\n",
    "\n",
    "    # Hidden Layers\n",
    "    keras.layers.Dense(512, activation = 'relu'),\n",
    "    keras.layers.Dense(1, activation = 'sigmoid')\n",
    "])"
   ]
  },
  {
   "cell_type": "code",
   "execution_count": 7,
   "metadata": {},
   "outputs": [],
   "source": [
    "model.compile(\n",
    "    optimizer= tf.keras.optimizers.RMSprop(learning_rate = 0.001),\n",
    "    loss='binary_crossentropy',\n",
    "    metrics=['accuracy']\n",
    ")"
   ]
  },
  {
   "cell_type": "code",
   "execution_count": 8,
   "metadata": {},
   "outputs": [
    {
     "name": "stdout",
     "output_type": "stream",
     "text": [
      "Epoch 1/10\n"
     ]
    },
    {
     "name": "stderr",
     "output_type": "stream",
     "text": [
      "2022-02-28 20:30:00.588008: I tensorflow/stream_executor/cuda/cuda_dnn.cc:368] Loaded cuDNN version 8101\n"
     ]
    },
    {
     "name": "stdout",
     "output_type": "stream",
     "text": [
      "62/62 [==============================] - 17s 203ms/step - loss: 1.1170 - accuracy: 0.7255 - val_loss: 0.3973 - val_accuracy: 0.8423\n",
      "Epoch 2/10\n",
      "62/62 [==============================] - 12s 198ms/step - loss: 0.4455 - accuracy: 0.8145 - val_loss: 0.3692 - val_accuracy: 0.8288\n",
      "Epoch 3/10\n",
      "62/62 [==============================] - 12s 189ms/step - loss: 0.3725 - accuracy: 0.8438 - val_loss: 0.4540 - val_accuracy: 0.8333\n",
      "Epoch 4/10\n",
      "62/62 [==============================] - 12s 190ms/step - loss: 0.3385 - accuracy: 0.8640 - val_loss: 0.2916 - val_accuracy: 0.8829\n",
      "Epoch 5/10\n",
      "62/62 [==============================] - 11s 172ms/step - loss: 0.3104 - accuracy: 0.8701 - val_loss: 0.2958 - val_accuracy: 0.8874\n",
      "Epoch 6/10\n",
      "62/62 [==============================] - 11s 180ms/step - loss: 0.2590 - accuracy: 0.8979 - val_loss: 0.2544 - val_accuracy: 0.9189\n",
      "Epoch 7/10\n",
      "62/62 [==============================] - 11s 182ms/step - loss: 0.2315 - accuracy: 0.9065 - val_loss: 0.6773 - val_accuracy: 0.7207\n",
      "Epoch 8/10\n",
      "62/62 [==============================] - 11s 184ms/step - loss: 0.1924 - accuracy: 0.9252 - val_loss: 0.2405 - val_accuracy: 0.9324\n",
      "Epoch 9/10\n",
      "62/62 [==============================] - 11s 175ms/step - loss: 0.1632 - accuracy: 0.9333 - val_loss: 0.2267 - val_accuracy: 0.9369\n",
      "Epoch 10/10\n",
      "62/62 [==============================] - 11s 179ms/step - loss: 0.1098 - accuracy: 0.9570 - val_loss: 0.2265 - val_accuracy: 0.9369\n"
     ]
    }
   ],
   "source": [
    "history = model.fit(\n",
    "    training_ds,\n",
    "    epochs = 10,\n",
    "    validation_data = validation_ds\n",
    ")"
   ]
  },
  {
   "cell_type": "code",
   "execution_count": 9,
   "metadata": {},
   "outputs": [
    {
     "data": {
      "image/png": "[encoded data removed]",
      "text/plain": [
       "<Figure size 432x288 with 1 Axes>"
      ]
     },
     "metadata": {
      "needs_background": "light"
     },
     "output_type": "display_data"
    },
    {
     "data": {
      "text/plain": [
       "<Figure size 432x288 with 0 Axes>"
      ]
     },
     "metadata": {},
     "output_type": "display_data"
    }
   ],
   "source": [
    "# Plotting the graph for Training and Validation Accuracy with epochs\n",
    "\n",
    "import matplotlib.pyplot as plt\n",
    "acc = history.history['accuracy']\n",
    "val_acc = history.history['val_accuracy']\n",
    "loss = history.history['loss']\n",
    "val_loss = history.history['val_loss']\n",
    "epochs = range(len(acc))\n",
    "\n",
    "plt.plot(epochs, acc, 'r', label='Training accuracy')\n",
    "plt.plot(epochs, val_acc, 'b', label='Validation accuracy')\n",
    "plt.title('Training and validation accuracy')\n",
    "plt.legend(loc=0)\n",
    "plt.figure()\n",
    "plt.show()"
   ]
  },
  {
   "cell_type": "code",
   "execution_count": 10,
   "metadata": {},
   "outputs": [
    {
     "name": "stderr",
     "output_type": "stream",
     "text": [
      "2022-02-28 20:32:27.641385: W tensorflow/python/util/util.cc:368] Sets are not currently considered sequences, but this may change in the future, so consider avoiding using them.\n"
     ]
    },
    {
     "name": "stdout",
     "output_type": "stream",
     "text": [
      "INFO:tensorflow:Assets written to: saved_model/assets\n"
     ]
    }
   ],
   "source": [
    "# Saving the model\n",
    "\n",
    "model.save('saved_model')"
   ]
  }
 ],
 "metadata": {
  "interpreter": {
   "hash": "2970bcef8fe16998bd890b0dba96b33c8183a54954af1d3159c15c062080bc0a"
  },
  "kernelspec": {
   "display_name": "Python 3 (ipykernel)",
   "language": "python",
   "name": "python3"
  },
  "language_info": {
   "codemirror_mode": {
    "name": "ipython",
    "version": 3
   },
   "file_extension": ".py",
   "mimetype": "text/x-python",
   "name": "python",
   "nbconvert_exporter": "python",
   "pygments_lexer": "ipython3",
   "version": "3.10.1"
  }
 },
 "nbformat": 4,
 "nbformat_minor": 2
}
